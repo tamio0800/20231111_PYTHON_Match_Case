{
 "cells": [
  {
   "cell_type": "code",
   "execution_count": 19,
   "metadata": {},
   "outputs": [
    {
     "name": "stdout",
     "output_type": "stream",
     "text": [
      "資料工作者的最愛\n",
      "我不太確定呢...\n"
     ]
    }
   ],
   "source": [
    "def simulated_case(program_language: str):\n",
    "    \"\"\"\n",
    "    一個示範用的function:\n",
    "        如果 program_language 為 python 的話，回傳 \"資料工作者的最愛\"；\n",
    "        如果 program_language 為 r 的話，回傳 \"統計人員的好幫手\"；\n",
    "        如果 program_language 為 sql 的話，回傳 \"BI人員的同伴\"；\n",
    "        如果 program_language 為 javascript 的話，回傳 \"網頁工程師的好夥伴\"；\n",
    "        如果 program_language 為 java 的話，回傳 \"系統開發者的萬金油\"；\n",
    "        如果都不是的話，回傳 \"我不太確定呢...\"\n",
    "    \"\"\"\n",
    "    program_language = program_language.lower()\n",
    "\n",
    "    if program_language == \"python\":\n",
    "        return(\"資料工作者的最愛\")\n",
    "    elif program_language == \"r\":\n",
    "        return(\"統計人員的好幫手\")\n",
    "    elif program_language == \"sql\":\n",
    "        return(\"BI人員的同伴\")\n",
    "    elif program_language == \"javascript\":\n",
    "        return(\"網頁工程師的好夥伴\")\n",
    "    elif program_language == \"java\":\n",
    "        return(\"系統開發者的萬金油\")\n",
    "    else:\n",
    "        return(\"我不太確定呢...\")\n",
    "\n",
    "\n",
    "result_python = simulated_case(\"python\")\n",
    "print(result_python)\n",
    "\n",
    "result_weird = simulated_case(\"A weird language\")  \n",
    "print(result_weird)"
   ]
  },
  {
   "cell_type": "code",
   "execution_count": 17,
   "metadata": {},
   "outputs": [
    {
     "name": "stdout",
     "output_type": "stream",
     "text": [
      "資料工作者的最愛\n",
      "我不太確定呢...\n"
     ]
    }
   ],
   "source": [
    "# 改用 match case 來改寫\n",
    "\n",
    "def match_case(program_language: str):\n",
    "\n",
    "    match program_language.lower():\n",
    "        case \"python\":\n",
    "            return(\"資料工作者的最愛\")\n",
    "        case \"r\":\n",
    "            return(\"統計人員的好幫手\")\n",
    "        case \"sql\":\n",
    "            return(\"BI人員的同伴\")\n",
    "        case \"javascript\":\n",
    "            return(\"網頁工程師的好夥伴\")\n",
    "        case \"java\":\n",
    "            return(\"系統開發者的萬金油\")\n",
    "        case _:\n",
    "            return(\"我不太確定呢...\")\n",
    "\n",
    "\n",
    "result_python = match_case(\"python\")\n",
    "print(result_python)\n",
    "\n",
    "result_weird = match_case(\"A weird language\")  \n",
    "print(result_weird)"
   ]
  }
 ],
 "metadata": {
  "kernelspec": {
   "display_name": "opennet",
   "language": "python",
   "name": "python3"
  },
  "language_info": {
   "codemirror_mode": {
    "name": "ipython",
    "version": 3
   },
   "file_extension": ".py",
   "mimetype": "text/x-python",
   "name": "python",
   "nbconvert_exporter": "python",
   "pygments_lexer": "ipython3",
   "version": "3.12.0"
  }
 },
 "nbformat": 4,
 "nbformat_minor": 2
}
